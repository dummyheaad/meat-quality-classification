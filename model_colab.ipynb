{
  "nbformat": 4,
  "nbformat_minor": 0,
  "metadata": {
    "colab": {
      "provenance": []
    },
    "kernelspec": {
      "name": "python3",
      "display_name": "Python 3"
    },
    "language_info": {
      "name": "python"
    }
  },
  "cells": [
    {
      "cell_type": "markdown",
      "source": [
        "# Pembacaan Data"
      ],
      "metadata": {
        "id": "xADjmR8IResE"
      }
    },
    {
      "cell_type": "code",
      "source": [
        "import cv2\n",
        "import graphviz\n",
        "import numpy as np\n",
        "import os\n",
        "import shutil\n",
        "import urllib.request\n",
        "\n",
        "from skimage import img_as_ubyte\n",
        "from skimage.feature import graycomatrix, graycoprops\n",
        "from sklearn.datasets import load_iris\n",
        "from sklearn.metrics import accuracy_score\n",
        "from sklearn.tree import DecisionTreeClassifier\n",
        "from sklearn.tree import export_graphviz\n",
        "\n",
        "from google.colab.patches import cv2_imshow"
      ],
      "metadata": {
        "id": "hfrZ5tNkO5MM"
      },
      "execution_count": 82,
      "outputs": []
    },
    {
      "cell_type": "code",
      "source": [
        "# Mounting Drive\n",
        "from google.colab import drive\n",
        "drive.mount('/content/drive/')"
      ],
      "metadata": {
        "id": "pbZ3uxSO9Cuz",
        "colab": {
          "base_uri": "https://localhost:8080/"
        },
        "outputId": "f80207e6-630f-4ad7-c259-29318f99a298"
      },
      "execution_count": 3,
      "outputs": [
        {
          "output_type": "stream",
          "name": "stdout",
          "text": [
            "Mounted at /content/drive/\n"
          ]
        }
      ]
    },
    {
      "cell_type": "markdown",
      "source": [
        "## Membuat Subfolder"
      ],
      "metadata": {
        "id": "zQBHPxU9TffR"
      }
    },
    {
      "cell_type": "code",
      "source": [
        "# Menentukan path\n",
        "base_path = \"/content/drive/MyDrive/tugas-akhir-pcd/dataset\"\n",
        "paths = [\"train\", \"valid\"]\n",
        "# Membuat subdirektori baru untuk data train dan val yang masing-masing berisi folder class FRESH, HALF-FRESH, dan SPOILED\n",
        "classes = [\"FRESH\",\"HALF-FRESH\",\"SPOILED\"]\n",
        "for i in range(len(paths)):\n",
        "    for j in range(len(classes)):\n",
        "        sub_folder = os.path.join(paths[i], classes[j])\n",
        "        os.makedirs(os.path.join(base_path, sub_folder))"
      ],
      "metadata": {
        "id": "9YzXKnwILT9N"
      },
      "execution_count": null,
      "outputs": []
    },
    {
      "cell_type": "markdown",
      "source": [
        "## Pengisian Gambar ke Subfolder\n"
      ],
      "metadata": {
        "id": "pTmgmjBpTo9J"
      }
    },
    {
      "cell_type": "code",
      "source": [
        "# Mengisi gambar ke folder class yang sesuai (data train)\n",
        "base_dir = \"/content/drive/MyDrive/tugas-akhir-pcd/dataset_raw\"\n",
        "train_path = os.path.join(base_dir, \"train\")\n",
        "\"\"\"For train.\"\"\"\n",
        "for filename in os.listdir(train_path):\n",
        "    if filename.rfind(\"FRESH\") == 0:\n",
        "        shutil.copy(os.path.join(train_path,filename),base_path + \"/train/FRESH\")\n",
        "    elif filename.rfind(\"HALF-FRESH\") == 0:\n",
        "        shutil.copy(os.path.join(train_path,filename),base_path + \"/train/HALF-FRESH\")\n",
        "    elif filename.rfind(\"SPOILED\") == 0:\n",
        "        shutil.copy(os.path.join(train_path,filename),base_path + \"/train/SPOILED\")\n",
        "    else:\n",
        "        pass"
      ],
      "metadata": {
        "id": "2pyg7OW0MKUv"
      },
      "execution_count": null,
      "outputs": []
    },
    {
      "cell_type": "code",
      "source": [
        "base_dir = \"/content/drive/MyDrive/tugas-akhir-pcd/dataset_raw\"\n",
        "print(len(os.listdir(base_dir + \"/train/\")))\n",
        "print(len(os.listdir(base_dir + \"/valid/\")))"
      ],
      "metadata": {
        "colab": {
          "base_uri": "https://localhost:8080/"
        },
        "id": "UyF0uRELaAYV",
        "outputId": "60db9f58-57fd-4a0f-b145-41e12b333ed4"
      },
      "execution_count": 6,
      "outputs": [
        {
          "output_type": "stream",
          "name": "stdout",
          "text": [
            "1816\n",
            "452\n"
          ]
        }
      ]
    },
    {
      "cell_type": "code",
      "source": [
        "# Mengisi gambar ke folder class yang sesuai (data val)\n",
        "val_path = os.path.join(base_dir, \"valid\")\n",
        "\"\"\"For validation.\"\"\"\n",
        "for filename in os.listdir(val_path):\n",
        "    if filename.rfind(\"FRESH\") == 0:\n",
        "        shutil.copy(os.path.join(val_path,filename),base_path + \"/valid/FRESH\")\n",
        "    elif filename.rfind(\"HALF-FRESH\") == 0:\n",
        "        shutil.copy(os.path.join(val_path,filename),base_path + \"/valid/HALF-FRESH\")\n",
        "    elif filename.rfind(\"SPOILED\") == 0:\n",
        "        shutil.copy(os.path.join(val_path,filename),base_path + \"/valid/SPOILED\")\n",
        "    else:\n",
        "        pass"
      ],
      "metadata": {
        "id": "4eN73rFZQA8T"
      },
      "execution_count": null,
      "outputs": []
    },
    {
      "cell_type": "code",
      "source": [
        "# Pengecekan jumlah data\n",
        "base_path = \"/content/drive/MyDrive/tugas-akhir-pcd/dataset\"\n",
        "train_FRESH = len(os.listdir(base_path + \"/train/FRESH\"))\n",
        "train_HALF_FRESH = len(os.listdir(base_path + \"/train/HALF-FRESH\"))\n",
        "train_SPOILED = len(os.listdir(base_path + \"/train/SPOILED\"))\n",
        "total_train = train_FRESH + train_HALF_FRESH + train_SPOILED\n",
        "\n",
        "valid_FRESH = len(os.listdir(base_path + \"/valid/FRESH\"))\n",
        "valid_HALF_FRESH = len(os.listdir(base_path + \"/valid/HALF-FRESH\"))\n",
        "valid_SPOILED = len(os.listdir(base_path + \"/valid/SPOILED\"))\n",
        "total_valid = valid_FRESH + valid_HALF_FRESH + valid_SPOILED\n",
        "\n",
        "print(\"Training :\")\n",
        "print(\"================\")\n",
        "print(f\"FRESH: {train_FRESH}\")\n",
        "print(f\"HALF-FRESH: {train_HALF_FRESH}\")\n",
        "print(f\"SPOILED: {train_SPOILED}\")\n",
        "print(f\"Total Data: {total_train}\")\n",
        "print(\"\")\n",
        "print(\"Validation :\")\n",
        "print(\"================\")\n",
        "print(f\"FRESH: {valid_FRESH}\")\n",
        "print(f\"HALF-FRESH: {valid_HALF_FRESH}\")\n",
        "print(f\"SPOILED: {valid_SPOILED}\")\n",
        "print(f\"Total Data: {total_valid}\")\n",
        "print(\"\")\n",
        "print(f\"Percentage Training Data: {total_train/(total_train+total_valid)*100} %\")\n",
        "print(f\"Percentage Validation Data: {total_valid/(total_train+total_valid)*100} %\")"
      ],
      "metadata": {
        "colab": {
          "base_uri": "https://localhost:8080/"
        },
        "id": "rmiP2IfzT9Gg",
        "outputId": "2add21bb-e604-4dd8-87be-33bd65bf6466"
      },
      "execution_count": 5,
      "outputs": [
        {
          "output_type": "stream",
          "name": "stdout",
          "text": [
            "Training :\n",
            "================\n",
            "FRESH: 675\n",
            "HALF-FRESH: 630\n",
            "SPOILED: 510\n",
            "Total Data: 1815\n",
            "\n",
            "Validation :\n",
            "================\n",
            "FRESH: 178\n",
            "HALF-FRESH: 159\n",
            "SPOILED: 114\n",
            "Total Data: 451\n",
            "\n",
            "Percentage Training Data: 80.09708737864078 %\n",
            "Percentage Validation Data: 19.902912621359224 %\n"
          ]
        }
      ]
    },
    {
      "cell_type": "markdown",
      "source": [
        "# Praproses Data"
      ],
      "metadata": {
        "id": "aFSHRoEAmw6Q"
      }
    },
    {
      "cell_type": "markdown",
      "source": [
        "## Normalisasi Data Gambar"
      ],
      "metadata": {
        "id": "AUlU9iDwrltw"
      }
    },
    {
      "cell_type": "code",
      "source": [
        "def read_image(file_path):\n",
        "  image = cv2.imread(file_path, 0)  # Membaca data dalam format grayscale\n",
        "  image = cv2.resize(image, (150, 150))  # Mengubah ukuran gambar menjadi 150x150 piksel\n",
        "  image = image.astype(np.float32) / 255.0  # Normalisasi gambar menjadi 0-1\n",
        "  return image"
      ],
      "metadata": {
        "id": "fhs6b8vkQzRu"
      },
      "execution_count": 17,
      "outputs": []
    },
    {
      "cell_type": "markdown",
      "source": [
        "# Pembuatan Model"
      ],
      "metadata": {
        "id": "egzyjGNXk3sV"
      }
    },
    {
      "cell_type": "code",
      "source": [
        "def get_list_path_file(name):\n",
        "  files = []\n",
        "  labels = []\n",
        "  # Mendefinisikan path direktori data train dan validasi\n",
        "  base_path = \"/content/drive/MyDrive/tugas-akhir-pcd/dataset/\"\n",
        "  path_dir = os.path.join(base_path, name)\n",
        "  for class_name in os.listdir(path_dir):\n",
        "    class_dir = os.path.join(path_dir, class_name)\n",
        "    for file_name in os.listdir(class_dir):\n",
        "      file_path = os.path.join(class_dir, file_name)\n",
        "      files.append(file_path)\n",
        "      labels.append(class_name)\n",
        "  return files, labels"
      ],
      "metadata": {
        "id": "qFACQJhef3jW"
      },
      "execution_count": 98,
      "outputs": []
    },
    {
      "cell_type": "markdown",
      "source": [
        "## Model 1: Tanpa Feature Engineering"
      ],
      "metadata": {
        "id": "IW_h6Cj7k94Q"
      }
    },
    {
      "cell_type": "code",
      "source": [
        "# Mendapatkan list path file gambar dan label kelas dari data train\n",
        "train_files, train_labels = get_list_path_file(\"train\")\n",
        "\n",
        "# Mendapatkan list path file gambar dan label kelas dari data validasi\n",
        "valid_files, valid_labels = get_list_path_file(\"valid\")\n",
        "\n",
        "# Membaca dan memproses gambar untuk data train\n",
        "X_train = np.array([read_image(file_path) for file_path in train_files])\n",
        "y_train = np.array(train_labels)\n",
        "\n",
        "# Membaca dan memproses gambar untuk data validasi\n",
        "X_valid = np.array([read_image(file_path) for file_path in valid_files])\n",
        "y_valid = np.array(valid_labels)\n",
        "\n",
        "# Membuat dan melatih model Decision Tree\n",
        "model = DecisionTreeClassifier()\n",
        "X_train = np.reshape(X_train, (X_train.shape[0], -1))\n",
        "model.fit(X_train, y_train)\n",
        "\n",
        "# Melakukan prediksi pada data validasi\n",
        "X_valid = np.reshape(X_valid, (X_valid.shape[0], -1))\n",
        "y_pred = model.predict(X_valid)\n",
        "\n",
        "# Menghitung akurasi model\n",
        "accuracy = accuracy_score(y_pred, y_valid)\n",
        "print(\"Akurasi model Decision Tree: \", accuracy)"
      ],
      "metadata": {
        "id": "S-MbDw8Oz4-b",
        "colab": {
          "base_uri": "https://localhost:8080/"
        },
        "outputId": "fbe586a0-86dc-4a25-8df8-ffac7e04caa4"
      },
      "execution_count": 127,
      "outputs": [
        {
          "output_type": "stream",
          "name": "stdout",
          "text": [
            "Akurasi model Decision Tree:  0.6119733924611973\n"
          ]
        }
      ]
    },
    {
      "cell_type": "markdown",
      "source": [
        "## Model 2: Dengan Feature Engineering GLCM"
      ],
      "metadata": {
        "id": "Y4XNtJQ5lFrg"
      }
    },
    {
      "cell_type": "code",
      "source": [
        "# Fungsi untuk ekstraksi fitur GLCM\n",
        "def extract_glcm_features(image):\n",
        "  # Konversi gambar menjadi tipe data unsigned integer\n",
        "  image = img_as_ubyte(image)\n",
        "  # Hitung matriks GLCM\n",
        "  glcm = graycomatrix(image, distances=[1], angles=[0, np.pi/4, np.pi/2, 3*np.pi/4], levels=256, symmetric=True, normed=True)\n",
        "  # Ekstraksi fitur dari matriks GLCM\n",
        "  contrast = graycoprops(glcm, 'contrast')\n",
        "  energy = graycoprops(glcm, 'energy')\n",
        "  correlation = graycoprops(glcm, 'correlation')\n",
        "  homogeneity = graycoprops(glcm, 'homogeneity')\n",
        "  return np.concatenate([contrast, energy, correlation, homogeneity])"
      ],
      "metadata": {
        "id": "sHKrqyEEfKiN"
      },
      "execution_count": 128,
      "outputs": []
    },
    {
      "cell_type": "code",
      "source": [
        "# Mendapatkan list path file gambar dan label kelas dari data train\n",
        "train_files, train_labels = get_list_path_file(\"train\")\n",
        "\n",
        "# Mendapatkan list path file gambar dan label kelas dari data validasi\n",
        "valid_files, valid_labels = get_list_path_file(\"valid\")\n",
        "\n",
        "# Membaca dan memproses gambar untuk data train\n",
        "X_train = np.array([read_image(file_path) for file_path in train_files])\n",
        "y_train = np.array(train_labels)\n",
        "\n",
        "# Ekstraksi fitur GLCM untuk setiap gambar dalam data train\n",
        "X_train_features = np.array([extract_glcm_features(image) for image in X_train])\n",
        "X_train_features = np.reshape(X_train_features, (X_train_features.shape[0], -1))\n",
        "\n",
        "# Membaca dan memproses gambar untuk data validasi\n",
        "X_valid = np.array([read_image(file_path) for file_path in valid_files])\n",
        "y_valid = np.array(valid_labels)\n",
        "\n",
        "# Ekstraksi fitur GLCM untuk setiap gambar dalam data validasi\n",
        "X_valid_features = np.array([extract_glcm_features(image) for image in X_valid])\n",
        "X_valid_features = np.reshape(X_valid_features, (X_valid_features.shape[0], -1))\n",
        "\n",
        "# Membuat dan melatih model Decision Tree dengan fitur yang diekstraksi\n",
        "model = DecisionTreeClassifier()\n",
        "model.fit(X_train_features, y_train)\n",
        "\n",
        "# Melakukan prediksi pada data validasi\n",
        "y_pred = model.predict(X_valid_features)\n",
        "\n",
        "# Menghitung akurasi model\n",
        "accuracy = accuracy_score(y_pred, y_valid)\n",
        "print(\"Akurasi model Decision Tree setelah Feature Engineering: \", accuracy)"
      ],
      "metadata": {
        "colab": {
          "base_uri": "https://localhost:8080/"
        },
        "id": "rwojHV8SUedh",
        "outputId": "af6c9a11-d8ee-4b75-f6e3-707934456429"
      },
      "execution_count": 129,
      "outputs": [
        {
          "output_type": "stream",
          "name": "stdout",
          "text": [
            "Akurasi model Decision Tree setelah Feature Engineering:  0.7405764966740577\n"
          ]
        }
      ]
    },
    {
      "cell_type": "code",
      "source": [
        "filtered_list = list(filter(lambda x: x == 'FRESH', y_pred))\n",
        "len(filtered_list)"
      ],
      "metadata": {
        "colab": {
          "base_uri": "https://localhost:8080/"
        },
        "id": "_gQZlWnUy9fJ",
        "outputId": "97625109-58cd-4cb9-eab6-2652c80e5f7f"
      },
      "execution_count": 102,
      "outputs": [
        {
          "output_type": "execute_result",
          "data": {
            "text/plain": [
              "168"
            ]
          },
          "metadata": {},
          "execution_count": 102
        }
      ]
    },
    {
      "cell_type": "code",
      "source": [
        "filtered_list = list(filter(lambda x: x == 'FRESH', y_valid))\n",
        "len(filtered_list)"
      ],
      "metadata": {
        "colab": {
          "base_uri": "https://localhost:8080/"
        },
        "id": "rUN94QvfzTxe",
        "outputId": "07af37ac-5b3a-456f-9989-9573e8c56152"
      },
      "execution_count": 103,
      "outputs": [
        {
          "output_type": "execute_result",
          "data": {
            "text/plain": [
              "178"
            ]
          },
          "metadata": {},
          "execution_count": 103
        }
      ]
    },
    {
      "cell_type": "code",
      "source": [
        "count = 0\n",
        "for pred, valid in zip(y_pred, y_valid):\n",
        "    if pred == 'FRESH' and valid == 'FRESH':\n",
        "        count += 1\n",
        "\n",
        "print(\"Total elemen yang sama bernilai 'FRESH':\", count)"
      ],
      "metadata": {
        "colab": {
          "base_uri": "https://localhost:8080/"
        },
        "id": "-OO-a5dDztK7",
        "outputId": "ac9b151f-455e-4547-c3f8-9e7a86b0034d"
      },
      "execution_count": 104,
      "outputs": [
        {
          "output_type": "stream",
          "name": "stdout",
          "text": [
            "Total elemen yang sama bernilai 'FRESH': 131\n"
          ]
        }
      ]
    },
    {
      "cell_type": "code",
      "source": [
        "count = 0\n",
        "for pred, valid in zip(y_pred, y_valid):\n",
        "    if pred == 'HALF-FRESH' and valid == 'HALF-FRESH':\n",
        "        count += 1\n",
        "\n",
        "print(\"Total elemen yang sama bernilai 'HALF-FRESH':\", count)"
      ],
      "metadata": {
        "colab": {
          "base_uri": "https://localhost:8080/"
        },
        "id": "CdcEs-i8zwGN",
        "outputId": "04145dca-11f7-4b61-8273-130327a5dc54"
      },
      "execution_count": 105,
      "outputs": [
        {
          "output_type": "stream",
          "name": "stdout",
          "text": [
            "Total elemen yang sama bernilai 'HALF-FRESH': 107\n"
          ]
        }
      ]
    },
    {
      "cell_type": "code",
      "source": [
        "count = 0\n",
        "for pred, valid in zip(y_pred, y_valid):\n",
        "    if pred == 'SPOILED' and valid == 'SPOILED':\n",
        "        count += 1\n",
        "\n",
        "print(\"Total elemen yang sama bernilai 'SPOILED':\", count)"
      ],
      "metadata": {
        "colab": {
          "base_uri": "https://localhost:8080/"
        },
        "id": "G5AOoa-iz0iH",
        "outputId": "fa6b7117-5519-4ab8-bbf2-9aed9840d440"
      },
      "execution_count": 106,
      "outputs": [
        {
          "output_type": "stream",
          "name": "stdout",
          "text": [
            "Total elemen yang sama bernilai 'SPOILED': 101\n"
          ]
        }
      ]
    },
    {
      "cell_type": "code",
      "source": [
        "## KESIMPULAN: 0 -> FRESH, 1 -> HALF-FRESH, 2 -> SPOILED"
      ],
      "metadata": {
        "id": "QXR1DB2hz4WQ"
      },
      "execution_count": null,
      "outputs": []
    },
    {
      "cell_type": "markdown",
      "source": [
        "# Evaluasi Model"
      ],
      "metadata": {
        "id": "eMJnVj89x0G1"
      }
    },
    {
      "cell_type": "code",
      "source": [
        "from sklearn.metrics import confusion_matrix\n",
        "import matplotlib.pyplot as plt\n",
        "import seaborn as sns\n",
        "\n",
        "\n",
        "cm = confusion_matrix(y_valid, y_pred)\n",
        "plt.figure(figsize=(10, 8))\n",
        "sns.heatmap(cm, annot=True, cmap='Blues', fmt='g', xticklabels=['FRESH', 'HALF-FRESH', 'SPOILED'], yticklabels=['FRESH', 'HALF-FRESH', 'SPOILED'])\n",
        "plt.xlabel('Predicted')\n",
        "plt.ylabel('Actual')\n",
        "plt.title('Confusion Matrix')\n",
        "plt.show()"
      ],
      "metadata": {
        "colab": {
          "base_uri": "https://localhost:8080/",
          "height": 718
        },
        "id": "HyGD-dhkviTr",
        "outputId": "06837f27-bb27-406f-ecfe-300922e68c9a"
      },
      "execution_count": 130,
      "outputs": [
        {
          "output_type": "display_data",
          "data": {
            "text/plain": [
              "<Figure size 1000x800 with 2 Axes>"
            ],
            "image/png": "[encoded data removed]"
          },
          "metadata": {}
        }
      ]
    },
    {
      "cell_type": "code",
      "source": [
        "from sklearn.metrics import confusion_matrix, accuracy_score, precision_score, recall_score, f1_score\n",
        "\n",
        "# Menghitung matriks kebingungan\n",
        "cm = confusion_matrix(y_valid, y_pred)\n",
        "\n",
        "# Menghitung akurasi\n",
        "accuracy = accuracy_score(y_valid, y_pred)\n",
        "\n",
        "# Menghitung presisi\n",
        "precision = precision_score(y_valid, y_pred, average='macro')\n",
        "\n",
        "# Menghitung recall\n",
        "recall = recall_score(y_valid, y_pred, average='macro')\n",
        "\n",
        "# Menghitung f1-score\n",
        "f1 = f1_score(y_valid, y_pred, average='macro')\n",
        "\n",
        "# Menghitung error rate\n",
        "error_rate = (cm.sum() - np.trace(cm)) / cm.sum()\n",
        "\n",
        "print(\"Confusion Matrix:\")\n",
        "print(cm)\n",
        "print(\"Accuracy:\", accuracy)\n",
        "print(\"Precision:\", precision)\n",
        "print(\"Recall:\", recall)\n",
        "print(\"F1-score:\", f1)\n",
        "print(\"Error Rate:\", error_rate)"
      ],
      "metadata": {
        "colab": {
          "base_uri": "https://localhost:8080/"
        },
        "id": "eG73hSl0wINT",
        "outputId": "9426dd47-c017-4e4b-ff1f-012ba5c405c2"
      },
      "execution_count": 131,
      "outputs": [
        {
          "output_type": "stream",
          "name": "stdout",
          "text": [
            "Confusion Matrix:\n",
            "[[131  40   7]\n",
            " [ 36 104  19]\n",
            " [  5  10  99]]\n",
            "Accuracy: 0.7405764966740577\n",
            "Precision: 0.7429841941004732\n",
            "Recall: 0.7528213863752732\n",
            "F1-score: 0.7471866842102249\n",
            "Error Rate: 0.25942350332594233\n"
          ]
        }
      ]
    },
    {
      "cell_type": "code",
      "source": [
        "# Membuat visualisasi model Decision Tree\n",
        "dot_data = export_graphviz(model, out_file=None, filled=True)\n",
        "graph = graphviz.Source(dot_data)\n",
        "graph.render(\"decision_tree\")  # Simpan visualisasi ke file \"decision_tree.pdf\""
      ],
      "metadata": {
        "colab": {
          "base_uri": "https://localhost:8080/",
          "height": 35
        },
        "id": "jAM4Qguu1DRh",
        "outputId": "92488017-a111-41ef-dff3-22000875c58a"
      },
      "execution_count": 132,
      "outputs": [
        {
          "output_type": "execute_result",
          "data": {
            "text/plain": [
              "'decision_tree.pdf'"
            ],
            "application/vnd.google.colaboratory.intrinsic+json": {
              "type": "string"
            }
          },
          "metadata": {},
          "execution_count": 132
        }
      ]
    },
    {
      "cell_type": "markdown",
      "source": [
        "# Melakukan Prediksi"
      ],
      "metadata": {
        "id": "Qo0pN7yUx36R"
      }
    },
    {
      "cell_type": "code",
      "source": [
        "# Fungsi untuk membaca gambar dari URL\n",
        "def read_image_from_url(url, mode=1):\n",
        "    resp = urllib.request.urlopen(url)\n",
        "    image_bytes = resp.read()\n",
        "    image_arr = np.asarray(bytearray(image_bytes), dtype=np.uint8)\n",
        "    if mode == 0:\n",
        "      image = cv2.imdecode(image_arr, cv2.IMREAD_GRAYSCALE)  # Membaca gambar dalam mode grayscale\n",
        "    elif mode == 1:\n",
        "      image = cv2.imdecode(image_arr, cv2.IMREAD_COLOR)\n",
        "    image = cv2.resize(image, (150, 150))  # Meresize gambar ke ukuran 150x150\n",
        "    return image"
      ],
      "metadata": {
        "id": "FGF8Lrpy47xQ"
      },
      "execution_count": 133,
      "outputs": []
    },
    {
      "cell_type": "code",
      "source": [
        "\"\"\"\n",
        "Referensi Gambar:\n",
        "(BERHASIL DIIDENTIFIKASI) \n",
        "1. \"https://98.img.avito.st/1280x960/3644477498.jpg\" (FRESH)\n",
        "2. \"https://37.img.avito.st/image/1/1.UECG37aB_Knweg6vqroie1R8-K8kevyvQx_4r_B6Dq8wePCtMH787Q.yO4OD3eYrRK3YmzlU8g6yoiKbR4K3_xw-GNfX0fWd0k\" (HALF-FRESH)\n",
        "3. \"https://fastly.4sqi.net/img/general/600x600/3640854_UpsidPcJD2LSU2axzMAplnvkNOmEn2PtPamORnll8C0.jpg\" (SPOILED)\n",
        "4. \n",
        "5. \n",
        "\n",
        "(GAGAL DIIDENTIFIKASI)\n",
        "1. \"https://fastly.4sqi.net/img/general/600x600/43665752_lzE6KW4jE6P4U4DL9fjaz52qgcEw8ocUcmw2_QEUrNU.jpg\" (HARUSNYA HALF-FRESH)\n",
        "2. \"https://fastly.4sqi.net/img/general/600x600/58251572_lhqKay7QupsA139u0MlVXD7EIJGSJi1KkneCNl4Pq0U.jpg\" (HARUSNYA SPOILED)\n",
        "3. \"https://fastly.4sqi.net/img/general/600x600/9216480__BXQ4-vLaKt3jMp_nFxzNZFDHFCfUx_7zeA9bKjcNNA.jpg\" (HARUSNYA FRESH)\n",
        "4. \n",
        "5. \n",
        "\n",
        "[ULANGI PREDIKSI SETIAP REBUILD MODEL] -> LAKUKAN UNTUK SETIAP URL DAN CEK APAKAH BERHASIL ATAU GAGAL\n",
        "\"\"\"\n",
        "\n",
        "# Membaca gambar\n",
        "image_url = \"https://fastly.4sqi.net/img/general/600x600/58251572_lhqKay7QupsA139u0MlVXD7EIJGSJi1KkneCNl4Pq0U.jpg\"\n",
        "image = read_image_from_url(image_url, 0)\n",
        "image_colored = read_image_from_url(image_url)\n",
        "\n",
        "# Ekstraksi fitur pada gambar baru\n",
        "new_features = extract_glcm_features(image)  # Atau metode ekstraksi fitur lain yang sesuai\n",
        "\n",
        "# Reshape fitur gambar baru\n",
        "new_features = np.reshape(new_features, (1, -1))\n",
        "\n",
        "# Lakukan prediksi terhadap gambar baru\n",
        "prediction = model.predict(new_features)\n",
        "\n",
        "# Tampilkan hasil prediksi\n",
        "proba = model.predict_proba(new_features, (1, -1))\n",
        "print(\"Prediksi kelas gambar baru:\", prediction)\n",
        "print()\n",
        "cv2_imshow(image_colored)\n",
        "print()\n",
        "print(model.classes_)\n",
        "print(proba)"
      ],
      "metadata": {
        "colab": {
          "base_uri": "https://localhost:8080/",
          "height": 254
        },
        "id": "jxKMgdm4x3pF",
        "outputId": "48cc5583-d470-4336-b877-3cc0826921e3"
      },
      "execution_count": 139,
      "outputs": [
        {
          "output_type": "stream",
          "name": "stdout",
          "text": [
            "Prediksi kelas gambar baru: ['FRESH']\n",
            "\n"
          ]
        },
        {
          "output_type": "display_data",
          "data": {
            "text/plain": [
              "<PIL.Image.Image image mode=RGB size=150x150 at 0x7FC9D936A980>"
            ],
            "image/png": "[encoded data removed]"
          },
          "metadata": {}
        },
        {
          "output_type": "stream",
          "name": "stdout",
          "text": [
            "\n",
            "['FRESH' 'HALF-FRESH' 'SPOILED']\n",
            "[[1. 0. 0.]]\n"
          ]
        }
      ]
    },
    {
      "cell_type": "code",
      "source": [],
      "metadata": {
        "id": "ehl9Zw9bAZIo"
      },
      "execution_count": null,
      "outputs": []
    }
  ]
}